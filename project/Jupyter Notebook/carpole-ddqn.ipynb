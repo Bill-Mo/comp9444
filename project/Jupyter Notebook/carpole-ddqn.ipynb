{
 "cells": [
  {
   "cell_type": "markdown",
   "id": "179b9b56",
   "metadata": {},
   "source": [
    "# COMP9444 Project Report: Building a Cart Pole game using DDQN"
   ]
  },
  {
   "cell_type": "markdown",
   "id": "87b6bcc0",
   "metadata": {},
   "source": [
    "***\n"
   ]
  },
  {
   "cell_type": "markdown",
   "id": "7dcf239d",
   "metadata": {},
   "source": [
    "\n",
    "\n",
    "# Importing Packages"
   ]
  },
  {
   "cell_type": "code",
   "execution_count": 9,
   "id": "c5474434",
   "metadata": {},
   "outputs": [],
   "source": [
    "import torch\n",
    "from collections import deque\n",
    "import gym\n",
    "import numpy as np\n",
    "import random\n",
    "import torch.nn.functional as F\n",
    "import matplotlib.pyplot as plt\n",
    "import os \n",
    "os.environ[\"KMP_DUPLICATE_LIB_OK\"]=\"TRUE\"\n"
   ]
  },
  {
   "cell_type": "markdown",
   "id": "d5038159",
   "metadata": {},
   "source": [
    "# Hyperparameters \n"
   ]
  },
  {
   "cell_type": "code",
   "execution_count": 10,
   "id": "34ac2742",
   "metadata": {},
   "outputs": [],
   "source": [
    "# Hyperparameters\n",
    "max_epsilon = 1\n",
    "min_epsilon = 0.005\n",
    "epsilon_decay = 0.005\n",
    "batch_size = 50\n",
    "replay_capacity = 3000\n",
    "lr = 0.001\n",
    "gamma = 0.999\n",
    "hid = 80\n",
    "num_episodes = 2000\n",
    "avg_steps = 195\n",
    "continue_reward = 1\n",
    "fail_reward = -400\n",
    "target_update = 20\n",
    "epoch = 50\n",
    "seed = 20\n",
    "torch.manual_seed(seed)\n",
    "random.seed(seed)\n"
   ]
  },
  {
   "cell_type": "markdown",
   "id": "33bac53f",
   "metadata": {},
   "source": [
    "# Define Agent Class\n",
    "The agent follows a strategy to choose actions based on the current states, it directly interact with the game(env).\n",
    "\n",
    "- ``get_action`` - the current policy is epsilon greedy policy, which means it would choose action either using model or randomly based on the probability of epsilon value. Besides, the epsilon value would decay exponentially (control the decay rate via ``epsilon_decay``)\n"
   ]
  },
  {
   "cell_type": "code",
   "execution_count": 11,
   "id": "41a9d6f5",
   "metadata": {},
   "outputs": [],
   "source": [
    "\n",
    "# Agent class\n",
    "class Agent():\n",
    "    def __init__(self, strategy, action_dim, device) -> None:\n",
    "        self.current_step = 0\n",
    "        # Current stretagy is epsilon greedy stretagy\n",
    "        self.strategy = strategy\n",
    "        self.action_dim = action_dim\n",
    "        self.device = device\n",
    "\n",
    "    # Get actions according to current state and DQN\n",
    "    def get_action(self, state, policy_net): \n",
    "        epsilon = self.strategy.get_epsilon(self.current_step)\n",
    "        self.current_step += 1\n",
    "\n",
    "        # Exploration\n",
    "        if random.random() < epsilon:\n",
    "            # print('explore')\n",
    "            return random.randint(0, self.action_dim - 1)\n",
    "        \n",
    "        # Exploitation\n",
    "        else: \n",
    "            # print('exploit')\n",
    "            with torch.no_grad():\n",
    "                return policy_net(torch.tensor(state).to(device)).argmax().item()\n"
   ]
  },
  {
   "cell_type": "markdown",
   "id": "6648983b",
   "metadata": {},
   "source": [
    "# Experience replay\n",
    "A memory block which stroing pervious states and actions, accumulated those experience and make use of that for the action choosing. This blocks is for training the neurtal network for better descripting the environments.In such way, agent is learning both on a current state and stored previous states. \n",
    "\n",
    "- ``sample`` - randomly select a batch from the pervious state transitions stored for training.\n",
    "- ``enough_sample`` - this enable the agent will only be trained after accumulated centain amount of experience, i.e. specified by ``batch_size``.\n"
   ]
  },
  {
   "cell_type": "code",
   "execution_count": 12,
   "id": "63378ebb",
   "metadata": {},
   "outputs": [],
   "source": [
    "\n",
    "# Experience buffer\n",
    "class ReplayMemory():\n",
    "    def __init__(self) -> None:\n",
    "        self.capacity = replay_capacity\n",
    "        self.memory = deque()\n",
    "        self.push_count = 0\n",
    "    \n",
    "    # Store experience in memory buffer\n",
    "    def push(self, current_state, action, reward, next_state, done):\n",
    "        self.memory.append((current_state, action, reward, next_state, done))\n",
    "        \n",
    "        # If the buffer is full, remove first experience\n",
    "        if len(self.memory) > self.capacity:\n",
    "            self.memory.popleft()\n",
    "        self.push_count += 1\n",
    "    \n",
    "    # Get a batch of experience at random\n",
    "    def sample(self):\n",
    "        return random.sample(self.memory, batch_size)\n",
    "\n",
    "    # Check is the number of experience in buffer enough for training\n",
    "    def enough_sample(self):\n",
    "        return len(self.memory) > batch_size"
   ]
  },
  {
   "cell_type": "markdown",
   "id": "89677f37",
   "metadata": {},
   "source": [
    "# Strategy\n",
    "Considering exploration-exploitation trade-off, we use epsilon greedy strategy. It would initially have more chance to explore and then as the episode increase, it would tend to make use of the policy learned.\n",
    "\n",
    "- ``get_epsilon`` - get the probability for choosing exploration or exploitation. The epsilon value would decay exponentially (control the decay rate via ``epsilon_decay``). The probability would starts from ``max_epsilon`` and decrease to ``min_epsilon``. "
   ]
  },
  {
   "cell_type": "code",
   "execution_count": 13,
   "id": "5422b1a8",
   "metadata": {},
   "outputs": [],
   "source": [
    "# Epsilon greedy strategy\n",
    "class EpsilonGreedyStrategy():\n",
    "    def __init__(self) -> None:\n",
    "        self.epsilon = max_epsilon\n",
    "\n",
    "    # Decrease epsilon each time epsilon is required in order to give more and more chance to exploit\n",
    "    def get_epsilon(self, current_step):\n",
    "        self.epsilon = min_epsilon + (max_epsilon - min_epsilon) * np.exp(-epsilon_decay * current_step)\n",
    "        return self.epsilon"
   ]
  },
  {
   "cell_type": "markdown",
   "id": "9e825569",
   "metadata": {},
   "source": [
    "# DQN \n",
    "Table-based state-space representation woule be less appropriate as the carpole are contineuous rather than discrete since the pole can lean to any degree.\n",
    "\n",
    "Neural network would be used in this case to approximate the Q function.\n",
    "\n",
    "Here we also test different layers, which include increase hidden unit number, layer amount and **dense layer**."
   ]
  },
  {
   "cell_type": "code",
   "execution_count": 14,
   "id": "44178e7c",
   "metadata": {},
   "outputs": [],
   "source": [
    "\n",
    "# Deep Q network\n",
    "class DQN(torch.nn.Module): \n",
    "    def __init__(self, state_dim, action_dim) -> None:\n",
    "        # Quite simple fully connected network copied from Assignment 1\n",
    "        super(DQN, self).__init__()\n",
    "        self.in_to_hid1 = torch.nn.Linear(state_dim, hid)\n",
    "        self.hid1_to_hid2 = torch.nn.Linear(hid, hid)\n",
    "        self.hid2_to_out = torch.nn.Linear(hid, action_dim)\n",
    "\n",
    "    # Forward mathod\n",
    "    # Input: Current state\n",
    "    # Output: Q value for each action\n",
    "    def forward(self, input):\n",
    "        hid1_sum = self.in_to_hid1(input)\n",
    "        self.hid1 = torch.relu(hid1_sum)\n",
    "        hid2_sum = self.hid1_to_hid2(self.hid1)\n",
    "        self.hid2 = torch.relu(hid2_sum)\n",
    "        output_sum = self.hid2_to_out(self.hid2)\n",
    "        output = output_sum\n",
    "        return output"
   ]
  },
  {
   "cell_type": "markdown",
   "id": "aa3a1e67",
   "metadata": {},
   "source": [
    "# Compute Q-value\n",
    "As we use nn to descript the environment, we would need to use the tensor values here to compute Q value.\n",
    "- ``get_current`` - get the **q value** for current state from the neurat network.\n",
    "- ``get_next`` - get the **optimal q value** from the target network (here is DDQN method as DQN would tend to overoptimistic) \n"
   ]
  },
  {
   "cell_type": "code",
   "execution_count": 15,
   "id": "93fd499f",
   "metadata": {},
   "outputs": [],
   "source": [
    "\n",
    "# Functions that give Q values\n",
    "class Q_values():\n",
    "    device = torch.device('cuda' if torch.cuda.is_available() else 'cpu')\n",
    "\n",
    "    # Get Q value for current states\n",
    "    @staticmethod\n",
    "    def get_current(policy_net, current_state_batch, action_batch):\n",
    "        return policy_net(current_state_batch).gather(dim=1, index=action_batch.unsqueeze(-1)).flatten()\n",
    "\n",
    "    # Get Q value for next states\n",
    "    # Known as target Q value and Q star value\n",
    "    @staticmethod\n",
    "    def get_next(target_net, next_state_batch, done_batch):\n",
    "        index = 0\n",
    "        for done in done_batch:\n",
    "            \n",
    "            # If this is end state, Q star value should be 0\n",
    "            if done: \n",
    "                next_state_batch[index] = 0\n",
    "            index += 1\n",
    "\n",
    "        Q_star = target_net(next_state_batch).max(dim=1)[0].detach()\n",
    "        return Q_star\n",
    "\n"
   ]
  },
  {
   "cell_type": "markdown",
   "id": "3ebe6e98",
   "metadata": {},
   "source": [
    "# Training loop \n",
    "### Construct a target network \n",
    "DQN services as a great function approximator and provide Q values. However, DQN would frequently update the weights at each timestep, which is likely to form a function that choose over-estimated value. DDQN was introduced to solve this.\n",
    "\n",
    "DDQN tried to separate the action choosing and action evaluating. It would have two network, which is **policy network** and **target network**.It woul training and updating in policy network for a certain time before it actually update the target network. Via giving the target network more time to watch what policy learned and then update it self, it would constructe a stable neural network. \n"
   ]
  },
  {
   "cell_type": "code",
   "execution_count": 16,
   "id": "b2b1a0ca",
   "metadata": {},
   "outputs": [
    {
     "name": "stderr",
     "output_type": "stream",
     "text": [
      "C:\\Users\\22339\\AppData\\Roaming\\Python\\Python39\\site-packages\\gym\\utils\\passive_env_checker.py:97: UserWarning: \u001b[33mWARN: We recommend you to use a symmetric and normalized Box action space (range=[-1, 1]) https://stable-baselines3.readthedocs.io/en/master/guide/rl_tips.html\u001b[0m\n",
      "  logger.warn(\n",
      "C:\\Users\\22339\\AppData\\Roaming\\Python\\Python39\\site-packages\\gym\\core.py:200: DeprecationWarning: \u001b[33mWARN: Function `env.seed(seed)` is marked as deprecated and will be removed in the future. Please use `env.reset(seed=seed)` instead.\u001b[0m\n",
      "  deprecation(\n"
     ]
    },
    {
     "name": "stdout",
     "output_type": "stream",
     "text": [
      "episode 50, avg t: 14.46, avg reward: -385.35\n",
      "episode 100, avg t: 113.62, avg reward: -191.23\n",
      "episode 150, avg t: 186.26, avg reward: -41.29\n",
      "episode 200, avg t: 272.00, avg reward: 345.61\n",
      "episode 250, avg t: 368.80, avg reward: 774.76\n",
      "episode 300, avg t: 447.22, avg reward: 1254.65\n",
      "episode 350, avg t: 240.20, avg reward: 243.29\n",
      "episode 400, avg t: 267.34, avg reward: 348.25\n",
      "episode 450, avg t: 143.88, avg reward: -135.87\n",
      "episode 500, avg t: 259.98, avg reward: 242.32\n",
      "episode 550, avg t: 236.22, avg reward: 117.50\n",
      "episode 600, avg t: 251.80, avg reward: 218.73\n",
      "episode 650, avg t: 316.78, avg reward: 646.17\n",
      "episode 700, avg t: 357.96, avg reward: 827.83\n",
      "episode 750, avg t: 317.72, avg reward: 558.60\n",
      "episode 800, avg t: 498.50, avg reward: 1706.25\n",
      "episode 850, avg t: 294.62, avg reward: 326.22\n",
      "episode 900, avg t: 276.78, avg reward: 429.30\n",
      "episode 950, avg t: 376.62, avg reward: 949.11\n",
      "episode 1000, avg t: 422.88, avg reward: 1238.53\n",
      "episode 1050, avg t: 342.86, avg reward: 706.93\n",
      "episode 1100, avg t: 203.16, avg reward: 8.68\n",
      "episode 1150, avg t: 247.00, avg reward: 158.16\n",
      "episode 1200, avg t: 386.50, avg reward: 977.35\n",
      "episode 1250, avg t: 302.72, avg reward: 631.82\n",
      "episode 1300, avg t: 429.80, avg reward: 1219.47\n",
      "episode 1350, avg t: 449.06, avg reward: 1386.57\n",
      "episode 1400, avg t: 328.82, avg reward: 497.62\n",
      "episode 1450, avg t: 458.62, avg reward: 1410.03\n",
      "episode 1500, avg t: 442.54, avg reward: 1461.54\n",
      "episode 1550, avg t: 386.68, avg reward: 1025.66\n",
      "episode 1600, avg t: 318.98, avg reward: 465.19\n",
      "episode 1650, avg t: 500.00, avg reward: 1747.50\n",
      "episode 1700, avg t: 495.60, avg reward: 1717.89\n",
      "episode 1750, avg t: 460.10, avg reward: 1516.40\n",
      "episode 1800, avg t: 288.50, avg reward: 497.30\n",
      "episode 1850, avg t: 437.78, avg reward: 1443.80\n",
      "episode 1900, avg t: 375.82, avg reward: 994.80\n",
      "episode 1950, avg t: 369.84, avg reward: 807.86\n",
      "episode 2000, avg t: 388.00, avg reward: 884.52\n",
      "Numbers of success: 36 Successful rate: 0.90 Average steps: 331.9005\n"
     ]
    },
    {
     "data": {
      "image/png": "[encoded data removed]",
      "text/plain": [
       "<Figure size 432x288 with 1 Axes>"
      ]
     },
     "metadata": {
      "needs_background": "light"
     },
     "output_type": "display_data"
    }
   ],
   "source": [
    "\n",
    "if __name__ == '__main__':\n",
    "    device = torch.device('cuda' if torch.cuda.is_available() else 'cpu')\n",
    "    env = gym.make('CartPole-v1')\n",
    "    env.seed(seed)\n",
    "    action_dim = env.action_space.n\n",
    "    state_dim = env.observation_space.shape[0]\n",
    "    strategy = EpsilonGreedyStrategy()\n",
    "    agent = Agent(strategy, action_dim, device)\n",
    "    memory = ReplayMemory()\n",
    "\n",
    "    # policy net is used for training\n",
    "    # target net is used for calculating Q next value to evaluate Q value gotten from policy net\n",
    "    policy_net = DQN(state_dim, action_dim).to(device)\n",
    "    target_net = DQN(state_dim, action_dim).to(device)\n",
    "    target_net.load_state_dict(policy_net.state_dict())\n",
    "    target_net.eval()\n",
    "    optimizer = torch.optim.Adam(params=policy_net.parameters(), lr=lr)\n",
    "\n",
    "    # total reward is for testing purpose\n",
    "    round_batch = []\n",
    "    total_round = []\n",
    "    avg_reward = []\n",
    "    avg_round = []\n",
    "    num_success = 0\n",
    "    for episode in range(1, num_episodes + 1):\n",
    "        current_state = env.reset(seed=seed)\n",
    "        round = 0\n",
    "        success = False\n",
    "        acc_reward = 0\n",
    "        done = False\n",
    "        c_reward = continue_reward\n",
    "\n",
    "        # Try to play game, if done, the loop ends\n",
    "        while not done:\n",
    "            action = agent.get_action(current_state, policy_net)\n",
    "            next_state, reward, done, _ = env.step(action)\n",
    "            if done and round < 499:\n",
    "                reward = fail_reward\n",
    "            else:\n",
    "                reward = c_reward\n",
    "                c_reward += 0.01\n",
    "            acc_reward += reward\n",
    "            memory.push(current_state, action, reward, next_state, done)\n",
    "            current_state = next_state\n",
    "\n",
    "            # Training the model\n",
    "            if memory.enough_sample():\n",
    "                minibatch = memory.sample()\n",
    "\n",
    "                # Extract components of experiences into different tensors\n",
    "                current_state_batch = torch.tensor(np.array([data[0] for data in minibatch])).to(device)\n",
    "                action_batch = torch.tensor([data[1] for data in minibatch]).to(device)\n",
    "                reward_batch = torch.tensor([data[2] for data in minibatch]).to(device)\n",
    "                next_state_batch = torch.tensor(np.array([data[3] for data in minibatch])).to(device)\n",
    "                done_batch = torch.tensor([data[4] for data in minibatch]).to(device)\n",
    "\n",
    "                current_Q_value_batch = Q_values.get_current(policy_net, current_state_batch, action_batch)\n",
    "                next_Q_value_batch = Q_values.get_next(target_net, next_state_batch, done_batch)\n",
    "                Q_star_batch = reward_batch + gamma * next_Q_value_batch\n",
    "                loss = F.mse_loss(current_Q_value_batch, Q_star_batch)\n",
    "                optimizer.zero_grad()\n",
    "                loss.backward()\n",
    "                optimizer.step()\n",
    "\n",
    "            round += 1\n",
    "            if done:\n",
    "                round_batch.append(round)\n",
    "                total_round.append(round)\n",
    "                avg_reward.append(acc_reward)\n",
    "                break\n",
    "\n",
    "        if episode % target_update == 0:\n",
    "            target_net.load_state_dict(policy_net.state_dict())\n",
    "\n",
    "        # For testing purpose\n",
    "        if episode > 0 and episode % epoch == 0:\n",
    "            print(\"episode {}, avg t: {:.2f}, avg reward: {:.2f}\".format(episode, np.mean(round_batch), np.mean(avg_reward)))\n",
    "            avg_round.append(np.mean(round_batch))\n",
    "            round_batch = []\n",
    "            avg_reward = []\n",
    "    env.close()\n",
    "\n",
    "    for rounds in avg_round:\n",
    "        if rounds >= avg_steps:\n",
    "            num_success += 1\n",
    "    print('Numbers of success: {} Successful rate: {:.2f} Average steps: {}'.format(num_success, (num_success / (num_episodes / epoch)), np.mean(avg_round)))\n",
    "    plt.plot(range(num_episodes), [avg_steps] * num_episodes)\n",
    "    plt.plot(range(num_episodes), total_round)\n",
    "    plt.plot(np.linspace(epoch, num_episodes, num= int(num_episodes / epoch)), avg_round)\n",
    "    plt.xlabel('Episode')\n",
    "    plt.ylabel('Step')\n",
    "    plt.show()"
   ]
  }
 ],
 "metadata": {
  "kernelspec": {
   "display_name": "Python 3.9.12 ('base')",
   "language": "python",
   "name": "python3"
  },
  "language_info": {
   "codemirror_mode": {
    "name": "ipython",
    "version": 3
   },
   "file_extension": ".py",
   "mimetype": "text/x-python",
   "name": "python",
   "nbconvert_exporter": "python",
   "pygments_lexer": "ipython3",
   "version": "3.9.12"
  },
  "vscode": {
   "interpreter": {
    "hash": "88279d2366fe020547cde40dd65aa0e3aa662a6ec1f3ca12d88834876c85e1a6"
   }
  }
 },
 "nbformat": 4,
 "nbformat_minor": 5
}
