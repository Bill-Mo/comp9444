{
 "cells": [
  {
   "cell_type": "markdown",
   "id": "807d77a2",
   "metadata": {},
   "source": [
    "# COMP9444 Project Report: Building a Cart Pole game using Reinforcement Learning"
   ]
  },
  {
   "cell_type": "markdown",
   "id": "8454acd3",
   "metadata": {},
   "source": [
    "## Reinforcement learning method 1: REINFORCE"
   ]
  },
  {
   "cell_type": "markdown",
   "id": "0e9a4266",
   "metadata": {},
   "source": [
    "***"
   ]
  },
  {
   "cell_type": "markdown",
   "id": "e4dab28c",
   "metadata": {},
   "source": [
    "<a id='sections'></a>"
   ]
  },
  {
   "cell_type": "markdown",
   "id": "2eae06fc",
   "metadata": {},
   "source": [
    "## [Sections](#sections)"
   ]
  },
  {
   "cell_type": "markdown",
   "id": "daba4a9f",
   "metadata": {},
   "source": [
    "#### [Summary](#summary)"
   ]
  },
  {
   "cell_type": "markdown",
   "id": "d87c6acc",
   "metadata": {},
   "source": [
    "#### [Importing Packages](#Importing-Packages)"
   ]
  },
  {
   "cell_type": "markdown",
   "id": "999348b3",
   "metadata": {},
   "source": [
    "#### [Hyperparameters](#Hyperparameters)"
   ]
  },
  {
   "cell_type": "markdown",
   "id": "cd92a8c3",
   "metadata": {},
   "source": [
    "#### [Instantiating the agent](#Instantiating-the-Agent)"
   ]
  },
  {
   "cell_type": "markdown",
   "id": "3d554404",
   "metadata": {},
   "source": [
    "#### [Defining the policy](#Defining-the-policy)"
   ]
  },
  {
   "cell_type": "markdown",
   "id": "ed89b27a",
   "metadata": {},
   "source": [
    "#### [Instantiating the environment](#Instantiating-the-Environment)"
   ]
  },
  {
   "cell_type": "markdown",
   "id": "d230a80d",
   "metadata": {},
   "source": [
    "#### [Running REINFORCE](#Running-REINFORCE)"
   ]
  },
  {
   "cell_type": "markdown",
   "id": "ac5eccdb",
   "metadata": {},
   "source": [
    "<a id='summary'></a>"
   ]
  },
  {
   "cell_type": "markdown",
   "id": "fdaedcf2",
   "metadata": {},
   "source": [
    "#### REINFORCE stands for \"**RE**ward **I**ncrement = **N**on-negative **F**actor **O**ffset **R**einforcement **C**haracteristic **E**ligibility\", which is a monte carlo variation of the  Policy Gradient Reinforcement Learning algorithm. This algorithm is implemented by creating a policy, which uses a state to determine the probability of selecting an action as an output. This policy is then continuously repeated whilst slightly modifying the policy until a policy that controls the system is obtained."
   ]
  },
  {
   "cell_type": "markdown",
   "id": "1897aa4b",
   "metadata": {},
   "source": [
    "<a id='importing_packages'></a>"
   ]
  },
  {
   "cell_type": "markdown",
   "id": "a0ecdbe0",
   "metadata": {},
   "source": [
    "### Importing Packages"
   ]
  },
  {
   "cell_type": "markdown",
   "id": "fa2b6ad5",
   "metadata": {},
   "source": [
    "#### Import the necessary packages required."
   ]
  },
  {
   "cell_type": "code",
   "execution_count": 1,
   "id": "098a45f2",
   "metadata": {},
   "outputs": [],
   "source": [
    "from torch.distributions import Categorical\n",
    "import torch\n",
    "from collections import deque\n",
    "import gym\n",
    "import numpy as np\n",
    "import random\n",
    "import torch.nn.functional as F\n",
    "import matplotlib.pyplot as plt\n",
    "import os \n",
    "os.environ[\"KMP_DUPLICATE_LIB_OK\"]=\"TRUE\""
   ]
  },
  {
   "cell_type": "markdown",
   "id": "cded8899",
   "metadata": {},
   "source": [
    "<a id='hyperparameters'></a>"
   ]
  },
  {
   "cell_type": "markdown",
   "id": "7dcdee0a",
   "metadata": {},
   "source": [
    "### Hyperparameters"
   ]
  },
  {
   "cell_type": "markdown",
   "id": "6df01354",
   "metadata": {},
   "source": [
    "#### The hyperparameters are declared here so that it is easier for us to change the parameters of the policy algorithm to see the effects of altering such hyperparameters on the effectiveness of this reinforcement learning method on learning the Cart Pole game, which is determined by the number of episodes for it to successfully train."
   ]
  },
  {
   "cell_type": "code",
   "execution_count": 2,
   "id": "7346f3a2",
   "metadata": {},
   "outputs": [],
   "source": [
    "batch_size = 1000\n",
    "lr = 0.001\n",
    "gamma = 0.999\n",
    "hid = 50\n",
    "num_episodes = 2000\n",
    "avg_steps = 195\n",
    "continue_reward = 1\n",
    "fail_reward = -400\n",
    "epoch = 50\n",
    "seed = 100\n",
    "torch.manual_seed(seed)\n",
    "random.seed(seed)"
   ]
  },
  {
   "cell_type": "markdown",
   "id": "18981fd4",
   "metadata": {},
   "source": [
    "<a id='instantiating_the_agent'></a>"
   ]
  },
  {
   "cell_type": "markdown",
   "id": "edd4e029",
   "metadata": {},
   "source": [
    "### Instantiating the Agent"
   ]
  },
  {
   "cell_type": "markdown",
   "id": "713a6969",
   "metadata": {},
   "source": [
    "#### The Cart Pole agent will calculate the probability of taking the next action (moving either left or right) according to its current state. This calculation is guided by the Policy that decides what action the agent should take. The probability of taking the next action is then returned and the agent will decide which action to take next."
   ]
  },
  {
   "cell_type": "code",
   "execution_count": 3,
   "id": "4626ff38",
   "metadata": {},
   "outputs": [],
   "source": [
    "class Agent():\n",
    "    def __init__(self, action_dim, device) -> None:\n",
    "        self.current_step = 0\n",
    "        self.action_dim = action_dim\n",
    "        self.device = device\n",
    "\n",
    "    def get_action(self, state, policy_net): \n",
    "        self.current_step += 1\n",
    "        pred = policy_net(torch.tensor(state).to(device).unsqueeze(0))\n",
    "        distribution = Categorical(pred)\n",
    "        action = distribution.sample()\n",
    "        return action.item(), distribution.log_prob(action)"
   ]
  },
  {
   "cell_type": "markdown",
   "id": "8a54108b",
   "metadata": {},
   "source": [
    "<a id='defining_the_policy'></a>"
   ]
  },
  {
   "cell_type": "markdown",
   "id": "8fb8f0db",
   "metadata": {},
   "source": [
    "### Defining the Policy"
   ]
  },
  {
   "cell_type": "markdown",
   "id": "7e26c50d",
   "metadata": {},
   "source": [
    "#### The policy we decided to use was a simple 3-layer fully connected network that takes in the states as an input and outputs probability distributions of each action needed to be taken by the agent. The agent will then take probability distributions and take the best action based on the policy itself. The aim of this policy is to maximize the expected reward. Since the output is a probability, we use a softmax activation function instead of ReLU because the softmax function has an output probability range of 0 to 1, where the sum of all probabilities is equal to one. The expected reward is the sum of products of discounted rewards and a log of probabilities, where rewards are discounted by a factor of Gamma."
   ]
  },
  {
   "cell_type": "code",
   "execution_count": 4,
   "id": "6b61ebab",
   "metadata": {},
   "outputs": [],
   "source": [
    "class model(torch.nn.Module): \n",
    "    def __init__(self, state_dim, action_dim) -> None:\n",
    "        super(model, self).__init__()\n",
    "        self.in_to_hid1 = torch.nn.Linear(state_dim, hid)\n",
    "        self.hid1_to_hid2 = torch.nn.Linear(hid, hid)\n",
    "        self.hid2_to_out = torch.nn.Linear(hid, action_dim)\n",
    "\n",
    "    def forward(self, input):\n",
    "        hid1_sum = self.in_to_hid1(input)\n",
    "        self.hid1 = torch.relu(hid1_sum)\n",
    "        hid2_sum = self.hid1_to_hid2(self.hid1)\n",
    "        self.hid2 = torch.relu(hid2_sum)\n",
    "        output_sum = self.hid2_to_out(self.hid2)\n",
    "        output = F.softmax(output_sum, dim=1)\n",
    "        return output"
   ]
  },
  {
   "cell_type": "markdown",
   "id": "3735f9f7",
   "metadata": {},
   "source": [
    "<a id='instantiating_the_environment'></a>"
   ]
  },
  {
   "cell_type": "markdown",
   "id": "fbb093d2",
   "metadata": {},
   "source": [
    "### Instantiating the Environment"
   ]
  },
  {
   "cell_type": "markdown",
   "id": "3302e514",
   "metadata": {},
   "source": [
    "#### The Cart Pole game environment is relatively simple. It has a discrete action space of 2, as you can only either move left or right. The Cart Pole's state space, also known as observation space consists of only 4 dimensions, which is the angle of the pole, the horizontal position of the cart, angular velocity of the pole and the velocity of the cart. \n",
    "\n",
    "#### This is proven correct by the code below  that returns an output of two for the Cart Pole environment's action space and an output of 4 for the Cart Pole environment's obversation space (state space)."
   ]
  },
  {
   "cell_type": "code",
   "execution_count": 5,
   "id": "bc40aa13",
   "metadata": {},
   "outputs": [
    {
     "name": "stdout",
     "output_type": "stream",
     "text": [
      "action space: 2\n",
      "obversation space: 4\n"
     ]
    },
    {
     "name": "stderr",
     "output_type": "stream",
     "text": [
      "C:\\Users\\22339\\AppData\\Roaming\\Python\\Python39\\site-packages\\gym\\utils\\passive_env_checker.py:97: UserWarning: \u001b[33mWARN: We recommend you to use a symmetric and normalized Box action space (range=[-1, 1]) https://stable-baselines3.readthedocs.io/en/master/guide/rl_tips.html\u001b[0m\n",
      "  logger.warn(\n",
      "C:\\Users\\22339\\AppData\\Roaming\\Python\\Python39\\site-packages\\gym\\core.py:200: DeprecationWarning: \u001b[33mWARN: Function `env.seed(seed)` is marked as deprecated and will be removed in the future. Please use `env.reset(seed=seed)` instead.\u001b[0m\n",
      "  deprecation(\n"
     ]
    }
   ],
   "source": [
    "device = torch.device('cuda' if torch.cuda.is_available() else 'cpu')\n",
    "env = gym.make('CartPole-v1')\n",
    "env.seed(0)\n",
    "action_dim = env.action_space.n\n",
    "state_dim = env.observation_space.shape[0]\n",
    "agent = Agent(action_dim, device)\n",
    "device\n",
    "print('action space:', action_dim)\n",
    "print('obversation space:', state_dim)"
   ]
  },
  {
   "cell_type": "markdown",
   "id": "cca19cba",
   "metadata": {},
   "source": [
    "<a id='running_REINFORCE'></a>"
   ]
  },
  {
   "cell_type": "markdown",
   "id": "d63d0fcc",
   "metadata": {},
   "source": [
    "### Running REINFORCE"
   ]
  },
  {
   "cell_type": "markdown",
   "id": "7e0c8bae",
   "metadata": {},
   "source": [
    "#### Firstly, we use the Policy we defined earlier to simulate and play the Cart Pole game. The action probability distributions are then recorded from the training. The target net is used for calculating Q next value to evaluate the Q value that we obtained from the policy net. The trajectory is then calculated by playing the game by sampling the action probabilities from the current policy. We then use this to calculate the total expected reward, which is stored in reward_batch and log_prob_batch. We then apply a discounted factor of gamma to recalculate the total expected reward and calculate the loss. For the discounted factor and loss function calculations, we use batches to increase the rate of training. However, since REINFORCE uses gradient ascent instead of descent, we use negative rewards to calculate the loss function. The discounted dewards are then calculated for each step through backpropagation using the optimizer defined above. The code below is purely for testing purposes.\n",
    "#### To visualise how REINFORCE plays the Cart Pole game as the number of episodes increase, the env.render() line can be uncommented to give a visual representation of the Cart Pole game."
   ]
  },
  {
   "cell_type": "code",
   "execution_count": 6,
   "id": "a4b43a69",
   "metadata": {},
   "outputs": [
    {
     "name": "stdout",
     "output_type": "stream",
     "text": [
      "episode 50, avg round: 22.44, avg reward: -350.11\n",
      "episode 100, avg round: 20.04, avg reward: -359.41\n",
      "episode 150, avg round: 25.46, avg reward: -336.13\n",
      "episode 200, avg round: 21.88, avg reward: -354.20\n",
      "episode 250, avg round: 26.92, avg reward: -328.47\n",
      "episode 300, avg round: 35.36, avg reward: -289.79\n",
      "episode 350, avg round: 43.42, avg reward: -252.18\n",
      "episode 400, avg round: 52.28, avg reward: -194.41\n",
      "episode 450, avg round: 57.88, avg reward: -137.96\n",
      "episode 500, avg round: 101.50, avg reward: 288.84\n",
      "episode 550, avg round: 89.46, avg reward: 177.75\n",
      "episode 600, avg round: 161.96, avg reward: 1176.27\n",
      "episode 650, avg round: 150.64, avg reward: 929.77\n",
      "episode 700, avg round: 121.32, avg reward: 471.65\n",
      "episode 750, avg round: 188.00, avg reward: 1658.69\n",
      "episode 800, avg round: 220.00, avg reward: 2552.77\n",
      "episode 850, avg round: 217.92, avg reward: 2385.25\n",
      "episode 900, avg round: 242.66, avg reward: 2979.55\n",
      "episode 950, avg round: 280.72, avg reward: 4637.30\n",
      "episode 1000, avg round: 174.82, avg reward: 1303.52\n",
      "episode 1050, avg round: 239.62, avg reward: 3144.33\n",
      "episode 1100, avg round: 354.56, avg reward: 6579.84\n",
      "episode 1150, avg round: 298.52, avg reward: 5211.37\n",
      "episode 1200, avg round: 191.26, avg reward: 1958.64\n",
      "episode 1250, avg round: 498.98, avg reward: 12474.83\n",
      "episode 1300, avg round: 322.36, avg reward: 5636.40\n",
      "episode 1350, avg round: 481.64, avg reward: 11726.63\n",
      "episode 1400, avg round: 477.54, avg reward: 11567.80\n",
      "episode 1450, avg round: 464.66, avg reward: 10973.58\n",
      "episode 1500, avg round: 490.08, avg reward: 12129.59\n",
      "episode 1550, avg round: 499.06, avg reward: 12478.51\n",
      "episode 1600, avg round: 485.06, avg reward: 11950.92\n",
      "episode 1650, avg round: 391.60, avg reward: 8689.18\n",
      "episode 1700, avg round: 154.32, avg reward: 938.54\n",
      "episode 1750, avg round: 157.42, avg reward: 981.48\n",
      "episode 1800, avg round: 167.38, avg reward: 1175.37\n",
      "episode 1850, avg round: 183.20, avg reward: 1475.75\n",
      "episode 1900, avg round: 205.50, avg reward: 1998.88\n",
      "episode 1950, avg round: 413.34, avg reward: 9232.20\n",
      "episode 2000, avg round: 427.62, avg reward: 9468.75\n",
      "Numbers of success: 19 Successful rate: 0.47 Average steps: 228.95999999999998\n"
     ]
    }
   ],
   "source": [
    "policy_net = model(state_dim, action_dim).to(device)\n",
    "optimizer = torch.optim.Adam(params=policy_net.parameters(), lr=lr)\n",
    "\n",
    "round_batch = []\n",
    "total_round = []\n",
    "avg_reward = []\n",
    "avg_round = []\n",
    "num_success = 0\n",
    "# total reward is for testing purpose\n",
    "for episode in range(1, num_episodes + 1):\n",
    "    state = env.reset(seed=seed)\n",
    "    round = 0\n",
    "    success = False\n",
    "    acc_reward = 0\n",
    "    c_reward = continue_reward\n",
    "    done = False\n",
    "    reward_batch = deque(maxlen=batch_size)\n",
    "    log_prob_batch = deque(maxlen=batch_size)\n",
    "\n",
    "    # Try to play game, if done, the loop ends\n",
    "    while not done:\n",
    "        action, log_prob = agent.get_action(state, policy_net)\n",
    "        state, reward, done, _ = env.step(action)\n",
    "        if done:\n",
    "            reward = fail_reward\n",
    "        else:\n",
    "            reward = c_reward\n",
    "            c_reward += 0.1\n",
    "        acc_reward += reward\n",
    "        reward_batch.append(reward)\n",
    "        log_prob_batch.append(log_prob)\n",
    "\n",
    "        round += 1\n",
    "        if done:\n",
    "            round_batch.append(round)\n",
    "            total_round.append(round)\n",
    "            avg_reward.append(acc_reward)\n",
    "            break\n",
    "\n",
    "    # Training\n",
    "    discount_batch = [gamma ** i for i in range(len(reward_batch))]\n",
    "    expected_reward = 0\n",
    "    for index in range(len(reward_batch)):\n",
    "        expected_reward += discount_batch[index] * reward_batch[index]\n",
    "        \n",
    "    loss_batch = [-lp * expected_reward for lp in log_prob_batch]\n",
    "    loss = torch.cat(loss_batch).sum()\n",
    "    optimizer.zero_grad()\n",
    "    loss.backward()\n",
    "    optimizer.step()\n",
    "            \n",
    "    # For testing purpose\n",
    "    if episode > 0 and episode % epoch == 0:\n",
    "        print(\"episode {}, avg step: {:.2f}, avg reward: {:.2f}\".format(episode, np.mean(round_batch), np.mean(avg_reward)))\n",
    "        avg_round.append(np.mean(round_batch))\n",
    "        round_batch = []\n",
    "        avg_reward = []\n",
    "env.close()\n",
    "\n",
    "for rounds in avg_round:\n",
    "    if rounds >= avg_steps:\n",
    "        num_success += 1\n",
    "print('Numbers of success: {} Successful rate: {:.2f} Average steps: {}'.format(num_success, (num_success / (num_episodes / epoch)), np.mean(avg_round)))"
   ]
  },
  {
   "cell_type": "code",
   "execution_count": 7,
   "id": "0a24ce57",
   "metadata": {},
   "outputs": [
    {
     "data": {
      "image/png": "[encoded data removed]",
      "text/plain": [
       "<Figure size 432x288 with 1 Axes>"
      ]
     },
     "metadata": {
      "needs_background": "light"
     },
     "output_type": "display_data"
    }
   ],
   "source": [
    "plt.plot(range(num_episodes), [avg_steps] * num_episodes)\n",
    "plt.plot(range(num_episodes), total_round)\n",
    "plt.plot(np.linspace(epoch, num_episodes, num= int(num_episodes / epoch)), avg_round)\n",
    "plt.xlabel('Episode')\n",
    "plt.ylabel('Step')\n",
    "plt.show()"
   ]
  }
 ],
 "metadata": {
  "kernelspec": {
   "display_name": "Python 3.9.12 ('base')",
   "language": "python",
   "name": "python3"
  },
  "language_info": {
   "codemirror_mode": {
    "name": "ipython",
    "version": 3
   },
   "file_extension": ".py",
   "mimetype": "text/x-python",
   "name": "python",
   "nbconvert_exporter": "python",
   "pygments_lexer": "ipython3",
   "version": "3.9.12"
  },
  "vscode": {
   "interpreter": {
    "hash": "88279d2366fe020547cde40dd65aa0e3aa662a6ec1f3ca12d88834876c85e1a6"
   }
  }
 },
 "nbformat": 4,
 "nbformat_minor": 5
}
